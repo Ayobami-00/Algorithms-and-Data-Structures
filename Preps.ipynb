{
 "cells": [
  {
   "cell_type": "code",
   "execution_count": 59,
   "metadata": {},
   "outputs": [],
   "source": [
    "def linear_binary_search(data, target):\n",
    "    for i in range(len(data)):\n",
    "        if data[i] == target:\n",
    "            return True\n",
    "    return False\n",
    "\n",
    "def binary_search_iterative(data, target):\n",
    "    low = 0\n",
    "    high = len(data) - 1\n",
    "    while low <= high:\n",
    "        mid = (low + high) // 2\n",
    "        if target == data[mid]:\n",
    "            return True\n",
    "        elif target < data[mid]:\n",
    "            high = mid - 1\n",
    "        else:\n",
    "            low = mid + 1\n",
    "    return False\n",
    "\n",
    "def binary_search_recursive(data, target, low, high):\n",
    "    if low > high:\n",
    "        return False\n",
    "    else:\n",
    "        mid = (low + high) // 2\n",
    "        if target == data[mid]:\n",
    "            return True\n",
    "        elif target < data[mid]:\n",
    "            return binary_search_recursive(data, target, low, mid - 1)\n",
    "        else:\n",
    "            return binary_search_recursive(data, target, mid + 1, high)\n",
    "            \n",
    "            "
   ]
  },
  {
   "cell_type": "code",
   "execution_count": 62,
   "metadata": {},
   "outputs": [
    {
     "name": "stdout",
     "output_type": "stream",
     "text": [
      "False\n",
      "False\n",
      "False\n"
     ]
    }
   ],
   "source": [
    "data = [1,2,3,4,5]\n",
    "target = 100\n",
    "print(linear_binary_search(data, target))\n",
    "print(binary_search_iterative(data, target))\n",
    "print(binary_search_recursive(data, target, 0, len(data) -1))"
   ]
  },
  {
   "cell_type": "code",
   "execution_count": 76,
   "metadata": {},
   "outputs": [],
   "source": [
    "#Given a string, find the first upper case character.\n",
    "#Solve using both an iterative and recursive solution.\n",
    "\n",
    "input_str_1 = \"lucidProgramming\"\n",
    "input_str_2 = \"LucidProgramming\"\n",
    "input_str_3 = \"lucidprogramming\""
   ]
  },
  {
   "cell_type": "code",
   "execution_count": 77,
   "metadata": {},
   "outputs": [],
   "source": [
    "def find_uppercase_recursive(input_str, idx=0):\n",
    "    if input_str[idx].isupper():\n",
    "        return input_str[idx]\n",
    "    if idx == len(input_str) - 1:\n",
    "        return \"No uppercase character found\"\n",
    "    return find_uppercase_recursive(input_str, idx+1)"
   ]
  },
  {
   "cell_type": "code",
   "execution_count": 78,
   "metadata": {},
   "outputs": [
    {
     "name": "stdout",
     "output_type": "stream",
     "text": [
      "P\n",
      "L\n",
      "No uppercase character found\n"
     ]
    }
   ],
   "source": [
    "print(find_uppercase_recursive(input_str_1))\n",
    "print(find_uppercase_recursive(input_str_2))\n",
    "print(find_uppercase_recursive(input_str_3))"
   ]
  },
  {
   "cell_type": "code",
   "execution_count": null,
   "metadata": {},
   "outputs": [],
   "source": [
    "#Given two numbers, find their product using recursion\n"
   ]
  },
  {
   "cell_type": "code",
   "execution_count": 79,
   "metadata": {},
   "outputs": [],
   "source": [
    "#Given some integer, n. Determine the nth term in the \"look-and-say\" sequence\n",
    "#Example: For n =  4, the 4th term in the sequence is 1211"
   ]
  },
  {
   "cell_type": "code",
   "execution_count": 2,
   "metadata": {},
   "outputs": [
    {
     "name": "stdout",
     "output_type": "stream",
     "text": [
      "11\n",
      "21\n",
      "1211\n",
      "111221\n",
      "312211\n",
      "13112221\n",
      "1113213211\n",
      "31131211131221\n",
      "13211311123113112211\n"
     ]
    }
   ],
   "source": [
    "def next_numbers(s):\n",
    "    result = []\n",
    "    i = 0\n",
    "    while i < len(s):\n",
    "        count = 1\n",
    "        while i + 1 < len(s) and s[i] == s[i + 1]:\n",
    "            i +=1\n",
    "            count+= 1\n",
    "        result.append(str(count) + s[i])\n",
    "        i += 1\n",
    "    return ''.join(result)\n",
    "\n",
    "s = \"1\"\n",
    "n = 10\n",
    "for i in range(n-1):\n",
    "    s= next_numbers(s)\n",
    "    print(s)"
   ]
  },
  {
   "cell_type": "code",
   "execution_count": null,
   "metadata": {},
   "outputs": [],
   "source": []
  },
  {
   "cell_type": "code",
   "execution_count": null,
   "metadata": {},
   "outputs": [],
   "source": []
  },
  {
   "cell_type": "code",
   "execution_count": 1,
   "metadata": {},
   "outputs": [
    {
     "name": "stdout",
     "output_type": "stream",
     "text": [
      "[9, 8, 7, 6, 5, 4, 3, 2, 1]\n"
     ]
    }
   ],
   "source": [
    "#   Created by Elshad Karimov \n",
    "#   Copyright © 2021 AppMillers. All rights reserved.\n",
    "\n",
    "import math\n",
    "\n",
    "def bubbleSort(customList):\n",
    "    for i in range(len(customList)-1):\n",
    "        for j in range(len(customList)-i-1):\n",
    "            if customList[j] > customList[j+1]:\n",
    "                customList[j], customList[j+1] = customList[j+1], customList[j]\n",
    "    print(customList)\n",
    "\n",
    "\n",
    "def selectionSort(customList):\n",
    "    for i in range(len(customList)):\n",
    "        min_index = i\n",
    "        for j in range(i+1, len(customList)):\n",
    "            if customList[min_index] > customList[j]:\n",
    "                min_index = j\n",
    "        customList[i], customList[min_index] = customList[min_index], customList[i]\n",
    "    print(customList)\n",
    "\n",
    "def insertionSort(customList):\n",
    "    for i in range(1, len(customList)):\n",
    "        key = customList[i]\n",
    "        j = i-1\n",
    "        while j>=0 and key < customList[j]:\n",
    "            customList[j+1] = customList[j]\n",
    "            j -= 1\n",
    "        customList[j+1] = key\n",
    "    return customList\n",
    "\n",
    "\n",
    "def bucketSort(customList):\n",
    "    numberofBuckets = round(math.sqrt(len(customList)))\n",
    "    maxValue = max(customList)\n",
    "    arr = []\n",
    "\n",
    "    for i in range(numberofBuckets):\n",
    "        arr.append([])\n",
    "    for j in customList:\n",
    "        index_b = math.ceil(j*numberofBuckets/maxValue)\n",
    "        arr[index_b-1].append(j)\n",
    "    \n",
    "    for i in range(numberofBuckets):\n",
    "        arr[i] = insertionSort(arr[i])\n",
    "    \n",
    "    k = 0\n",
    "    for i in range(numberofBuckets):\n",
    "        for j in range(len(arr[i])):\n",
    "            customList[k] = arr[i][j]\n",
    "            k += 1\n",
    "    return customList\n",
    "\n",
    "def merge(customList, l, m, r):\n",
    "    n1 = m - l + 1\n",
    "    n2 = r - m\n",
    "\n",
    "    L = [0] * (n1)\n",
    "    R = [0] * (n2)\n",
    "\n",
    "    for i in range(0, n1):\n",
    "        L[i] = customList[l+i]\n",
    "    \n",
    "    for j in range(0, n2):\n",
    "        R[j] = customList[m+1+j]\n",
    "    \n",
    "    i = 0 \n",
    "    j = 0\n",
    "    k = l\n",
    "    while i < n1 and j < n2:\n",
    "        if L[i] <= R[j]:\n",
    "            customList[k] = L[i]\n",
    "            i += 1\n",
    "        else:\n",
    "            customList[k] = R[j]\n",
    "            j += 1\n",
    "        k += 1\n",
    "    while i < n1:\n",
    "        customList[k] = L[i]\n",
    "        i += 1\n",
    "        k += 1\n",
    "    \n",
    "    while j < n2:\n",
    "        customList[k] = R[j]\n",
    "        j += 1\n",
    "        k += 1\n",
    "\n",
    "def mergeSort(customList, l, r):\n",
    "    if l < r:\n",
    "        m = (l+(r-1))//2\n",
    "        mergeSort(customList, l, m)\n",
    "        mergeSort(customList, m+1, r)\n",
    "        merge(customList, l, m, r)\n",
    "    return customList\n",
    "\n",
    "def partition(customList, low, high):\n",
    "    i = low - 1\n",
    "    pivot = customList[high]\n",
    "    for j in range(low,high):\n",
    "        if customList[j] <= pivot:\n",
    "            i += 1\n",
    "            customList[i], customList[j] = customList[j], customList[i]\n",
    "    customList[i+1], customList[high] = customList[high], customList[i+1]\n",
    "    return (i+1)\n",
    "\n",
    "def quickSort(customList, low, high):\n",
    "    if low < high:\n",
    "        pi = partition(customList, low, high)\n",
    "        quickSort(customList, low, pi-1)\n",
    "        quickSort(customList, pi+1, high)\n",
    "\n",
    "\n",
    "def heapify(customList, n, i):\n",
    "    smallest = i\n",
    "    l = 2*i + 1\n",
    "    r = 2*i + 2\n",
    "    if l < n and customList[l] < customList[smallest]:\n",
    "        smallest = l\n",
    "    \n",
    "    if r < n and customList[r] < customList[smallest]:\n",
    "        smallest = r\n",
    "    \n",
    "    if smallest != i:\n",
    "        customList[i], customList[smallest] = customList[smallest], customList[i]\n",
    "        heapify(customList, n, smallest)\n",
    "\n",
    "\n",
    "def heapSort(customList):\n",
    "    n = len(customList)\n",
    "    for i in range(int(n/2)-1, -1, -1):\n",
    "        heapify(customList, n, i)\n",
    "    \n",
    "    for i in range(n-1,0,-1):\n",
    "        customList[i], customList[0] = customList[0], customList[i]\n",
    "        heapify(customList, i, 0)\n",
    "    # customList.reverse()\n",
    "\n",
    "\n",
    "\n",
    "cList = [2,1,7,6,5,3,4,9,8]\n",
    "heapSort(cList)\n",
    "print(cList)"
   ]
  },
  {
   "cell_type": "code",
   "execution_count": 2,
   "metadata": {},
   "outputs": [],
   "source": [
    "#PREPS"
   ]
  },
  {
   "cell_type": "code",
   "execution_count": null,
   "metadata": {},
   "outputs": [],
   "source": []
  },
  {
   "cell_type": "code",
   "execution_count": 3,
   "metadata": {},
   "outputs": [
    {
     "data": {
      "text/plain": [
       "'\\n\\tGiven a string, find the length of the longest substring without repeating characters.\\n\\tExamples:\\n\\tGiven \"abcabcbb\", the answer is \"abc\", which the length is 3.\\n\\tGiven \"bbbbb\", the answer is \"b\", with the length of 1.\\n\\tGiven \"pwwkew\", the answer is \"wke\", with the length of 3. Note that the answer must be a substring, \"pwke\" is a subsequence and not a substring.\\n'"
      ]
     },
     "execution_count": 3,
     "metadata": {},
     "output_type": "execute_result"
    }
   ],
   "source": [
    "'''\n",
    "\tGiven a string, find the length of the longest substring without repeating characters.\n",
    "\tExamples:\n",
    "\tGiven \"abcabcbb\", the answer is \"abc\", which the length is 3.\n",
    "\tGiven \"bbbbb\", the answer is \"b\", with the length of 1.\n",
    "\tGiven \"pwwkew\", the answer is \"wke\", with the length of 3. Note that the answer must be a substring, \"pwke\" is a subsequence and not a substring.\n",
    "'''\n"
   ]
  },
  {
   "cell_type": "code",
   "execution_count": 14,
   "metadata": {},
   "outputs": [],
   "source": [
    "example_string = 'abcabcbb'\n",
    "\n",
    "        \n",
    "    \n",
    "def lengthOfLongestSubstring(example_string):\n",
    "    count = 0\n",
    "    for i in range(1, len(example_string)):\n",
    "        j = i - 1\n",
    "        if example_string[j] != example_string[i]:\n",
    "            count+=1\n",
    "        else:\n",
    "            count = 0\n",
    "    return count\n",
    "    "
   ]
  },
  {
   "cell_type": "code",
   "execution_count": 15,
   "metadata": {},
   "outputs": [
    {
     "data": {
      "text/plain": [
       "0"
      ]
     },
     "execution_count": 15,
     "metadata": {},
     "output_type": "execute_result"
    }
   ],
   "source": [
    "lengthOfLongestSubstring(example_string)"
   ]
  },
  {
   "cell_type": "code",
   "execution_count": 21,
   "metadata": {},
   "outputs": [],
   "source": [
    " def lengthOfLongestSubstring(s):\n",
    "        mapSet = {}\n",
    "        start, result = 0, 0\n",
    "\n",
    "        for end in range(len(s)):\n",
    "            if s[end] in mapSet:\n",
    "                start = max(mapSet[s[end]], start)\n",
    "            result = max(result, end-start+1)\n",
    "            mapSet[s[end]] = end+1\n",
    "\n",
    "        return result "
   ]
  },
  {
   "cell_type": "code",
   "execution_count": 20,
   "metadata": {},
   "outputs": [
    {
     "data": {
      "text/plain": [
       "3"
      ]
     },
     "execution_count": 20,
     "metadata": {},
     "output_type": "execute_result"
    }
   ],
   "source": [
    "lengthOfLongestSubstring(example_string)"
   ]
  },
  {
   "cell_type": "code",
   "execution_count": 23,
   "metadata": {},
   "outputs": [
    {
     "data": {
      "text/plain": [
       "'\\nYou are given a list of n-1 integers and these integers are in the range of 1 to n.\\nThere are no duplicates in the list. \\nOne of the integers is missing in the list. Write an efficient code to find the missing integer.\\n'"
      ]
     },
     "execution_count": 23,
     "metadata": {},
     "output_type": "execute_result"
    }
   ],
   "source": [
    "#FIND THE MISSING NUMBER\n",
    "\"\"\"\n",
    "You are given a list of n-1 integers and these integers are in the range of 1 to n.\n",
    "There are no duplicates in the list. \n",
    "One of the integers is missing in the list. Write an efficient code to find the missing integer.\n",
    "\"\"\""
   ]
  },
  {
   "cell_type": "code",
   "execution_count": 26,
   "metadata": {},
   "outputs": [],
   "source": [
    "integer_list = [1, 2, 4, 5, 6]\n",
    "\n",
    "def getMissingNo(integer_list):\n",
    "    n = len(integer_list) + 1\n",
    "    sum_of_n_numbers = (n *(n+1)) //2\n",
    "    return sum_of_n_numbers - sum(integer_list)"
   ]
  },
  {
   "cell_type": "code",
   "execution_count": 27,
   "metadata": {},
   "outputs": [
    {
     "data": {
      "text/plain": [
       "3"
      ]
     },
     "execution_count": 27,
     "metadata": {},
     "output_type": "execute_result"
    }
   ],
   "source": [
    "getMissingNo(integer_list)"
   ]
  },
  {
   "cell_type": "code",
   "execution_count": null,
   "metadata": {},
   "outputs": [],
   "source": [
    "#SEARCH AN ELEMENT IN A SORTED AND ROTATED ARRAY\n",
    "\"\"\"\n",
    "An element in a sorted array can be found in O(log n) time via binary search.\n",
    "But suppose we rotate an ascending order sorted array at some pivot unknown to you beforehand. \n",
    "So for instance, 1 2 3 4 5 might become 3 4 5 1 2. Devise a way to find an element in the rotated array in \n",
    "O(log n) time.\n",
    "\"\"\""
   ]
  },
  {
   "cell_type": "code",
   "execution_count": 13,
   "metadata": {},
   "outputs": [],
   "source": [
    "#recursive binary search:\n",
    "def binary_search_recursive(temp_list, target, l , h):\n",
    "    if l > h:\n",
    "        return False\n",
    "    else:\n",
    "        mid = (l + h) // 2\n",
    "        if target == temp_list[mid]:\n",
    "            return True\n",
    "        \n",
    "        if key >= temp_list[l] and key <= temp_list[mid]:\n",
    "            return binary_search_recursive(temp_list, target, l , h-1)\n",
    "        else:\n",
    "            return binary_search_recursive(temp_list, target, l + 1 , h)"
   ]
  },
  {
   "cell_type": "code",
   "execution_count": 14,
   "metadata": {},
   "outputs": [],
   "source": [
    "def binary_search(temp_list, key):\n",
    "    l = 0\n",
    "    r = len(temp_list) - 1\n",
    "    m = (l + r) // 2\n",
    "    while m != key and l<=r:\n",
    "        if key < temp_list[m]:\n",
    "            r = m - 1\n",
    "        else:\n",
    "             l = m + 1\n",
    "        m = (l + r) // 2\n",
    "    if(temp_list[m] == key ):\n",
    "        return m\n",
    "    else:\n",
    "        return -1"
   ]
  },
  {
   "cell_type": "code",
   "execution_count": 16,
   "metadata": {},
   "outputs": [
    {
     "data": {
      "text/plain": [
       "True"
      ]
     },
     "execution_count": 16,
     "metadata": {},
     "output_type": "execute_result"
    }
   ],
   "source": [
    "binary_search_recursive([22,23,34,56,67], 67, 0, 4)"
   ]
  },
  {
   "cell_type": "code",
   "execution_count": 17,
   "metadata": {},
   "outputs": [],
   "source": [
    "def binary_search(temp_list, key):\n",
    "    l = 0\n",
    "    r = len(temp_list) - 1\n",
    "    m = (l + r ) // 2\n",
    "    while key != temp_list[m] and l<=r:\n",
    "        if key < temp_list[m]:\n",
    "            r = m - 1\n",
    "        else:\n",
    "            l = m + 1\n",
    "        m = (l + r ) // 2\n",
    "    if key == temp_list[m]:\n",
    "        return m\n",
    "    else:\n",
    "        return -1"
   ]
  },
  {
   "cell_type": "code",
   "execution_count": null,
   "metadata": {},
   "outputs": [],
   "source": [
    "# Search an element in sorted and rotated array using\n",
    "# single pass of Binary Search\n",
    " \n",
    "# Returns index of key in arr[l..h] if key is present,\n",
    "# otherwise returns -1\n",
    "def search (arr, l, h, key):\n",
    "    if l > h:\n",
    "        return -1\n",
    "     \n",
    "    mid = (l + h) // 2\n",
    "    if arr[mid] == key:\n",
    "        return mid\n",
    " \n",
    "    # If arr[l...mid] is sorted\n",
    "    if arr[l] <= arr[mid]:\n",
    " \n",
    "        # As this subarray is sorted, we can quickly\n",
    "        # check if key lies in half or other half\n",
    "        if key >= arr[l] and key <= arr[mid]:\n",
    "            return search(arr, l, mid-1, key)\n",
    "        return search(arr, mid + 1, h, key)\n",
    " \n",
    "    # If arr[l..mid] is not sorted, then arr[mid... r]\n",
    "    # must be sorted\n",
    "    if key >= arr[mid] and key <= arr[h]:\n",
    "        return search(a, mid + 1, h, key)\n",
    "    return search(arr, l, mid-1, key)\n",
    " \n",
    "# Driver program\n",
    "arr = [4, 5, 6, 7, 8, 9, 1, 2, 3]\n",
    "key = 6\n",
    "i = search(arr, 0, len(arr)-1, key)\n",
    "if i != -1:\n",
    "    print (\"Index: % d\"% i)\n",
    "else:\n",
    "    print (\"Key not found\")\n",
    " \n",
    "# This code is contributed by Shreyanshi Arun"
   ]
  },
  {
   "cell_type": "code",
   "execution_count": null,
   "metadata": {},
   "outputs": [],
   "source": []
  },
  {
   "cell_type": "code",
   "execution_count": null,
   "metadata": {},
   "outputs": [],
   "source": []
  }
 ],
 "metadata": {
  "kernelspec": {
   "display_name": "Python 3",
   "language": "python",
   "name": "python3"
  },
  "language_info": {
   "codemirror_mode": {
    "name": "ipython",
    "version": 3
   },
   "file_extension": ".py",
   "mimetype": "text/x-python",
   "name": "python",
   "nbconvert_exporter": "python",
   "pygments_lexer": "ipython3",
   "version": "3.8.5"
  }
 },
 "nbformat": 4,
 "nbformat_minor": 4
}
